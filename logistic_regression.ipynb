{
 "cells": [
  {
   "cell_type": "code",
   "execution_count": 1,
   "metadata": {},
   "outputs": [],
   "source": [
    "from gradient_descent import Gradient_Descent, generate_gif\n",
    "import numpy as np, matplotlib.pyplot as plt, os, pandas as pd, shutil, imageio\n",
    "from logistic_regression import logistic_gradient_f, log_loss, logistic_link\n",
    "from sklearn.metrics import roc_curve"
   ]
  },
  {
   "cell_type": "code",
   "execution_count": 2,
   "metadata": {},
   "outputs": [],
   "source": [
    "### let's define X of shape (n, 2) and play around a bit, to see if it's working\n",
    "np.random.seed(1)\n",
    "n = 1_000\n",
    "X = np.concatenate((np.ones((n, 1)), np.random.randn(n).reshape((-1, 1))), axis=1)\n",
    "y = np.random.binomial(n=1, p=1/2, size=n)\n",
    "y[np.where(X[:, 1] > 0.5)] = 1\n",
    "onetozero = np.where( ( X[:, 1] < 0.5 ) & ( (y==1).reshape(-1, ) ) )[0]\n",
    "y[onetozero] = np.random.binomial(n=1, p=1/2, size=onetozero.size)\n",
    "X[np.where(y==1), 1] += 3.3\n",
    "y=y.reshape(-1, 1)"
   ]
  },
  {
   "cell_type": "code",
   "execution_count": 3,
   "metadata": {},
   "outputs": [
    {
     "data": {
      "image/png": "[encoded data removed]",
      "text/plain": [
       "<Figure size 640x480 with 1 Axes>"
      ]
     },
     "metadata": {},
     "output_type": "display_data"
    }
   ],
   "source": [
    "plt.title('Scatterplot of X1 Vs y')\n",
    "plt.xlabel('X')\n",
    "plt.ylabel('Y')\n",
    "plt.scatter(X[:, 1], y)\n",
    "plt.show()"
   ]
  },
  {
   "cell_type": "code",
   "execution_count": 4,
   "metadata": {},
   "outputs": [
    {
     "name": "stdout",
     "output_type": "stream",
     "text": [
      "Reached convergence after 159 steps.\n"
     ]
    },
    {
     "data": {
      "text/plain": [
       "array([[-3.36122807],\n",
       "       [ 3.03375789]])"
      ]
     },
     "execution_count": 4,
     "metadata": {},
     "output_type": "execute_result"
    }
   ],
   "source": [
    "init_weights = np.zeros((2, 1))\n",
    "# init_weights = np.array([5., 5.]).reshape(-1, 1)\n",
    "\n",
    "w = Gradient_Descent(\n",
    "    weights=init_weights,\n",
    "    gradient_function=logistic_gradient_f,\n",
    "    epsilon=1e-2,\n",
    "    link=logistic_link,\n",
    ")\n",
    "\n",
    "w.fit(X, y, alpha=8e-1)"
   ]
  },
  {
   "cell_type": "code",
   "execution_count": 5,
   "metadata": {},
   "outputs": [],
   "source": [
    "generate_gif(X, y, log_loss, w, gif_name='logistic_regression_gradient_descent')"
   ]
  }
 ],
 "metadata": {
  "kernelspec": {
   "display_name": "base",
   "language": "python",
   "name": "python3"
  },
  "language_info": {
   "codemirror_mode": {
    "name": "ipython",
    "version": 3
   },
   "file_extension": ".py",
   "mimetype": "text/x-python",
   "name": "python",
   "nbconvert_exporter": "python",
   "pygments_lexer": "ipython3",
   "version": "3.10.9"
  },
  "orig_nbformat": 4
 },
 "nbformat": 4,
 "nbformat_minor": 2
}
