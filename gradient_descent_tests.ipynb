{
 "cells": [
  {
   "cell_type": "code",
   "execution_count": 5,
   "metadata": {},
   "outputs": [],
   "source": [
    "import numpy as np, torch, torch.nn as nn, torch.nn.functional as F\n",
    "import matplotlib, matplotlib.pyplot as plt, os\n",
    "import imageio\n",
    "from gradient_descent import Gradient_Descent\n",
    "# matplotlib.use(\"Agg\")"
   ]
  },
  {
   "cell_type": "code",
   "execution_count": 6,
   "metadata": {},
   "outputs": [
    {
     "name": "stdout",
     "output_type": "stream",
     "text": [
      "Initial betas: [[0.48951662]\n",
      " [0.23879586]]\n",
      "Reached convergence after 1135 steps.\n"
     ]
    },
    {
     "name": "stderr",
     "output_type": "stream",
     "text": [
      "C:\\Users\\vitin\\AppData\\Local\\Temp\\ipykernel_15048\\2824605277.py:60: DeprecationWarning: Starting with ImageIO v3 the behavior of this function will switch to that of iio.v3.imread. To keep the current behavior (and make this warning disappear) use `import imageio.v2 as imageio` or call `imageio.v2.imread` directly.\n",
      "  frames = [imageio.imread(file_) for file_ in figs]\n"
     ]
    }
   ],
   "source": [
    "np.random.seed(1)\n",
    "n = 1_000\n",
    "X = np.random.randn(n).reshape(-1, 1)\n",
    "X = np.concatenate((np.ones_like(X), X), axis=1)\n",
    "y = X[:, 1].reshape(-1, 1) * 10 + 35 + np.random.randn(n).reshape(-1, 1) * 3\n",
    "\n",
    "def loss_function(X, y, weights):\n",
    "    return ((y - X.dot(weights)) ** 2).mean()\n",
    "\n",
    "def b_grad(X, y, weights):\n",
    "    return -2 * X.T.dot(y) + 2 * (X.T.dot(X)).dot(weights)\n",
    "\n",
    "optimal_betas = np.linalg.inv(X.T.dot(X)).dot(X.T.dot(y))\n",
    "\n",
    "betas = np.random.randn(2).reshape(-1, 1)\n",
    "print(f\"Initial betas: {betas}\")\n",
    "\n",
    "w = Gradient_Descent(\n",
    "    weights=betas,\n",
    "    gradient_function=b_grad,\n",
    "    epsilon=1e-5,\n",
    "    # loss_function=loss_function, \n",
    "    # comment this parameter if you don't wish to use linear search (slower convergence)\n",
    ")\n",
    "\n",
    "w.fit(X=X, y=y, tau=1 / 2)\n",
    "\n",
    "bs = [(i[0][0], i[1][0]) for i in w.weights_by_step]\n",
    "\n",
    "if not os.path.isdir(\"tempfigs\"):\n",
    "    os.makedirs(\"tempfigs\")\n",
    "\n",
    "xmin = X[:, 1].min() - 3\n",
    "xmax = X[:, 1].max() + 3\n",
    "ymin = y.min() - 10\n",
    "ymax = y.max() + 10\n",
    "\n",
    "lf = lambda beta0, beta1: loss_function(\n",
    "    X=X, y=y, weights=np.array([beta0, beta1]).reshape(-1, 1)\n",
    ")\n",
    "\n",
    "for i, (b0, b1) in enumerate(bs):\n",
    "    fig, ax = plt.subplots(figsize=(15, 7))\n",
    "    current_loss = np.round(lf(b0, b1), 2)\n",
    "    plt.title(\n",
    "        f\"Gradient Descent method iteration #{i}; loss (MSE) = {current_loss}\"\n",
    "    )\n",
    "    plt.xlabel(\"X\")\n",
    "    plt.ylabel(\"Y\")\n",
    "    ax.scatter(X[:, 1], y)\n",
    "    ax.plot([xmin, xmax], [b0 + b1 * xmin, b0 + b1 * xmax], c=\"red\")\n",
    "    ax.set_xlim(xmin, xmax)\n",
    "    ax.set_ylim(ymin, ymax)\n",
    "\n",
    "    fig.savefig(fname=f\"tempfigs/tempfig_{i}.png\")\n",
    "    plt.close()\n",
    "\n",
    "figs = [\"tempfigs/\" + fi for fi in os.listdir(\"tempfigs\")]\n",
    "figs.sort(key=lambda s: int(s.split(\"_\")[1].split(\".\")[0]))\n",
    "frames = [imageio.imread(file_) for file_ in figs]\n",
    "if not os.path.isdir('gifs'):\n",
    "    os.makedirs('gifs')\n",
    "imageio.mimsave(\"gifs/gradient_descent.gif\", frames, \"GIF\", duration=10)\n",
    "\n",
    "### remove generated images\n",
    "for file_ in figs:\n",
    "    os.remove(file_)\n",
    "\n",
    "os.rmdir(\"tempfigs\")"
   ]
  },
  {
   "cell_type": "code",
   "execution_count": 10,
   "metadata": {},
   "outputs": [
    {
     "name": "stdout",
     "output_type": "stream",
     "text": [
      "Reached convergence after 35 steps.\n"
     ]
    },
    {
     "name": "stderr",
     "output_type": "stream",
     "text": [
      "C:\\Users\\vitin\\AppData\\Local\\Temp\\ipykernel_15048\\2818801763.py:43: DeprecationWarning: Starting with ImageIO v3 the behavior of this function will switch to that of iio.v3.imread. To keep the current behavior (and make this warning disappear) use `import imageio.v2 as imageio` or call `imageio.v2.imread` directly.\n",
      "  frames = [imageio.imread(file_) for file_ in figs]\n"
     ]
    }
   ],
   "source": [
    "w = Gradient_Descent(\n",
    "    weights=betas,\n",
    "    gradient_function=b_grad,\n",
    "    epsilon=1e-6,\n",
    "    loss_function=loss_function, \n",
    "    # comment this parameter if you don't wish to use linear search (slower convergence)\n",
    ")\n",
    "\n",
    "w.fit(X=X, y=y, tau = 3 / 4)\n",
    "\n",
    "bs = [(i[0][0], i[1][0]) for i in w.weights_by_step]\n",
    "\n",
    "if not os.path.isdir(\"tempfigs\"):\n",
    "    os.makedirs(\"tempfigs\")\n",
    "\n",
    "xmin = X[:, 1].min() - 3\n",
    "xmax = X[:, 1].max() + 3\n",
    "ymin = y.min() - 10\n",
    "ymax = y.max() + 10\n",
    "\n",
    "lf = lambda beta0, beta1: loss_function(\n",
    "    X=X, y=y, weights=np.array([beta0, beta1]).reshape(-1, 1)\n",
    ")\n",
    "\n",
    "for i, (b0, b1) in enumerate(bs):\n",
    "    fig, ax = plt.subplots(figsize=(15, 7))\n",
    "    current_loss = np.round(lf(b0, b1), 2)\n",
    "    plt.title(\n",
    "        f\"Gradient Descent method iteration #{i}; loss (MSE) = {current_loss}\"\n",
    "    )\n",
    "    plt.xlabel(\"X\")\n",
    "    plt.ylabel(\"Y\")\n",
    "    ax.scatter(X[:, 1], y)\n",
    "    ax.plot([xmin, xmax], [b0 + b1 * xmin, b0 + b1 * xmax], c=\"red\")\n",
    "    ax.set_xlim(xmin, xmax)\n",
    "    ax.set_ylim(ymin, ymax)\n",
    "\n",
    "    fig.savefig(fname=f\"tempfigs/tempfig_{i}.png\")\n",
    "    plt.close()\n",
    "\n",
    "figs = [\"tempfigs/\" + fi for fi in os.listdir(\"tempfigs\")]\n",
    "figs.sort(key=lambda s: int(s.split(\"_\")[1].split(\".\")[0]))\n",
    "frames = [imageio.imread(file_) for file_ in figs]\n",
    "\n",
    "imageio.mimsave(\"gifs/gradient_descent_with_line_search.gif\", frames, \"GIF\", duration=10)\n",
    "\n",
    "### remove generated images\n",
    "for file_ in figs:\n",
    "    os.remove(file_)\n",
    "\n",
    "os.rmdir(\"tempfigs\")"
   ]
  }
 ],
 "metadata": {
  "kernelspec": {
   "display_name": "torch_stuff",
   "language": "python",
   "name": "python3"
  },
  "language_info": {
   "codemirror_mode": {
    "name": "ipython",
    "version": 3
   },
   "file_extension": ".py",
   "mimetype": "text/x-python",
   "name": "python",
   "nbconvert_exporter": "python",
   "pygments_lexer": "ipython3",
   "version": "3.9.16"
  },
  "orig_nbformat": 4
 },
 "nbformat": 4,
 "nbformat_minor": 2
}
